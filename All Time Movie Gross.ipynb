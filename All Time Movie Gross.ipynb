{
 "cells": [
  {
   "cell_type": "markdown",
   "id": "97d091d8",
   "metadata": {},
   "source": [
    "# 1. Import libraries"
   ]
  },
  {
   "cell_type": "code",
   "execution_count": 2,
   "id": "3ab40d95",
   "metadata": {},
   "outputs": [
    {
     "name": "stdout",
     "output_type": "stream",
     "text": [
      "BeautifulSoup and Pandas are already installed and imported\n"
     ]
    }
   ],
   "source": [
    "# Check if beautifulsoup and pandas are already installed\n",
    "# If not, install it and then import\n",
    "\n",
    "try:\n",
    "    from bs4 import BeautifulSoup\n",
    "    import pandas\n",
    "    print (\"BeautifulSoup and Pandas are already installed and imported\")\n",
    "except:\n",
    "    import sys\n",
    "    !conda install --yes --prefix {sys.prefix} bs4\n",
    "    !conda install --yes --prefix {sys.prefix} pandas\n",
    "    from bs4 import BeautifulSoup\n",
    "    import pandas\n",
    "    print (\"BeautifulSoup and Pandas were not found. Installed them and imported\")\n",
    "\n",
    "import requests"
   ]
  },
  {
   "cell_type": "markdown",
   "id": "e4725403",
   "metadata": {},
   "source": [
    "Importing libraries, especially BeautifulSoup and pandas."
   ]
  },
  {
   "cell_type": "markdown",
   "id": "776978c2",
   "metadata": {},
   "source": [
    "# 2. Read the webpage & prase it with BeautifulSoup"
   ]
  },
  {
   "cell_type": "code",
   "execution_count": 3,
   "id": "1fac60d2",
   "metadata": {},
   "outputs": [
    {
     "name": "stdout",
     "output_type": "stream",
     "text": [
      "Webpage opened successfully...\n",
      "Webpage loaded and parsed successfully...\n"
     ]
    }
   ],
   "source": [
    "opened_webpage = requests.get(\"https://www.boxofficemojo.com/chart/ww_top_lifetime_gross/?area=XWW\")\n",
    "print (\"Webpage opened successfully...\")\n",
    "\n",
    "# Initialize a BeautifulSoup object to read and parse the webpage read\n",
    "# This is like calling the __init__ function in BeautifulSoup\n",
    "bs = BeautifulSoup(opened_webpage.content, \"html.parser\")\n",
    "print (\"Webpage loaded and parsed successfully...\")"
   ]
  },
  {
   "cell_type": "markdown",
   "id": "212e4cbe",
   "metadata": {},
   "source": [
    "Copy and paste link of selected website so that the library can read thorough the webpage. <br />\n",
    "Also, prasing the webpage with BeautifulSoup. "
   ]
  },
  {
   "cell_type": "markdown",
   "id": "4efa71ed",
   "metadata": {},
   "source": [
    "# 3. Extract the raw data from the website"
   ]
  },
  {
   "cell_type": "code",
   "execution_count": 4,
   "id": "c20d88d4",
   "metadata": {},
   "outputs": [
    {
     "name": "stdout",
     "output_type": "stream",
     "text": [
      "[\"Rank\\nTitle\\nWorldwide Lifetime Gross\\nDomestic Lifetime Gross\\nDomestic %\\nForeign Lifetime Gross\\nForeign %\\nYear\\n1Avatar$2,923,706,026$785,221,64926.9%$2,138,484,37773.1%20092Avengers: Endgame$2,799,439,100$858,373,00030.7%$1,941,066,10069.3%20193Avatar: The Way of Water$2,268,388,003$666,325,81629.4%$1,602,062,18770.6%20224Titanic$2,254,271,285$673,995,82929.9%$1,580,275,45670.1%19975Star Wars: Episode VII - The Force Awakens$2,071,310,218$936,662,22545.2%$1,134,647,99354.8%20156Avengers: Infinity War$2,052,415,039$678,815,48233.1%$1,373,599,55766.9%20187Spider-Man: No Way Home$1,921,847,111$814,115,07042.4%$1,107,732,04157.6%20218Jurassic World$1,671,537,444$653,406,62539.1%$1,018,130,81960.9%20159The Lion King$1,663,075,401$543,638,04332.7%$1,119,437,35867.3%201910The Avengers$1,520,538,536$623,357,91041%$897,180,62659%201211Furious 7$1,515,341,399$353,007,02023.3%$1,162,334,37976.7%201512Top Gun: Maverick$1,493,491,858$718,732,82148.1%$774,759,03751.9%202213Frozen II$1,453,683,476$477,373,57832.8%$976,309,89867.2%201914Avengers: Age of Ultron$1,405,018,048$459,005,86832.7%$946,012,18067.3%201515Black Panther$1,349,926,083$700,426,56651.9%$649,499,51748.1%201816Harry Potter and the Deathly Hallows: Part 2$1,342,359,942$381,447,58728.4%$960,912,35571.6%201117Star Wars: Episode VIII - The Last Jedi$1,334,407,706$620,181,38246.5%$714,226,32453.5%201718Jurassic World: Fallen Kingdom$1,310,466,296$417,719,76031.9%$892,746,53668.1%201819Frozen$1,284,540,518$400,953,00931.2%$883,587,50968.8%201320Beauty and the Beast$1,266,115,964$504,481,16539.8%$761,634,79960.2%201721Incredibles 2$1,243,225,667$608,581,74449%$634,643,92351%201822The Fate of the Furious$1,236,005,118$226,008,38518.3%$1,009,996,73381.7%201723Iron Man 3$1,215,577,205$409,013,99433.6%$806,563,21166.4%201324Minions$1,159,444,662$336,045,77029%$823,398,89271%201525Captain America: Civil War$1,155,046,416$408,084,34935.3%$746,962,06764.7%201626Aquaman$1,148,528,393$335,104,31429.2%$813,424,07970.8%201827The Lord of the Rings: The Return of the King$1,146,457,748$378,251,20733%$768,206,54167%200328Skyfall$1,142,471,295$304,360,27726.6%$838,111,01873.4%201229Spider-Man: Far from Home$1,131,927,996$390,532,08534.5%$741,395,91165.5%201930Captain Marvel$1,131,416,446$426,829,83937.7%$704,586,60762.3%201931Transformers: Dark of the Moon$1,123,794,079$352,390,54331.4%$771,403,53668.6%201132Jurassic Park$1,109,802,321$404,214,72036.4%$705,587,60163.6%199333Transformers: Age of Extinction$1,104,054,072$245,439,07622.2%$858,614,99677.8%201434The Dark Knight Rises$1,081,169,825$448,149,58441.4%$633,020,24158.6%201235Star Wars: Episode IX - The Rise of Skywalker$1,077,022,372$515,202,54247.8%$561,819,83052.2%201936Joker$1,074,458,282$335,477,65731.2%$738,980,62568.8%201937Toy Story 4$1,073,841,394$434,038,00840.4%$639,803,38659.6%201938Toy Story 3$1,067,316,101$415,004,88038.9%$652,311,22161.1%201039Pirates of the Caribbean: Dead Man's Chest$1,066,179,747$423,315,81239.7%$642,863,93560.3%200640Rogue One: A Star Wars Story$1,058,682,142$533,539,99150.4%$525,142,15149.6%201641Aladdin$1,054,304,000$355,559,21633.7%$698,744,78466.3%201942Pirates of the Caribbean: On Stranger Tides$1,046,721,266$241,071,80223%$805,649,46477%201143Despicable Me 3$1,034,800,131$264,624,30025.6%$770,175,83174.4%201744Finding Dory$1,029,266,989$486,295,56147.2%$542,971,42852.8%201645Star Wars: Episode I - The Phantom Menace$1,027,082,707$474,544,67746.2%$552,538,03053.8%199946Zootopia$1,025,521,689$341,268,24833.3%$684,253,44166.7%201647Alice in Wonderland$1,025,468,216$334,191,11032.6%$691,277,10667.4%201048Harry Potter and the Sorcerer's Stone$1,023,842,938$318,886,96231.2%$704,955,97668.8%200149The Hobbit: An Unexpected Journey$1,017,030,651$303,030,65129.8%$714,000,00070.2%201250The Dark Knight$1,006,234,167$534,987,07653.2%$471,247,09146.8%200851Jurassic World: Dominion$1,001,978,080$376,851,08037.6%$625,127,00062.4%202252Jumanji: Welcome to the Jungle$995,339,117$404,540,17140.6%$590,798,94659.4%201753Harry Potter and the Deathly Hallows: Part 1$977,070,383$296,374,62130.3%$680,695,76269.7%201054Despicable Me 2$970,766,005$368,065,38537.9%$602,700,62062.1%201355The Lion King$968,511,805$422,783,77743.6%$545,728,02856.4%199456The Jungle Book$967,724,775$364,001,12337.6%$603,723,65262.4%201657The Hobbit: The Battle of the Five Armies$962,201,338$255,138,26126.5%$707,063,07773.5%201458Pirates of the Caribbean: At World's End$961,691,209$309,420,42532.2%$652,270,78467.8%200759The Hobbit: The Desolation of Smaug$959,027,992$258,387,33426.9%$700,640,65873.1%201360Doctor Strange in the Multiverse of Madness$955,775,804$411,331,60743%$544,444,19757%202261The Lord of the Rings: The Two Towers$947,944,270$342,952,51136.2%$604,991,75963.8%200262Harry Potter and the Order of the Phoenix$942,278,045$292,382,72731%$649,895,31869%200763Finding Nemo$941,637,960$380,843,26140.4%$560,794,69959.6%200364Minions: The Rise of Gru$939,628,210$369,695,21039.3%$569,933,00060.7%202265Harry Potter and the Half-Blood Prince$934,519,387$302,334,37432.4%$632,185,01367.6%200966Shrek 2$928,760,770$441,226,24747.5%$487,534,52352.5%200467Harry Potter and the Chamber of Secrets$925,668,380$262,641,63728.4%$663,026,74371.6%200268Bohemian Rhapsody$910,809,311$216,668,04223.8%$694,141,26976.2%201869The Battle at Lake Changjin$902,548,476$342,411<0.1%$902,206,065100%202170The Lord of the Rings: The Fellowship of the Ring$898,204,420$316,115,42035.2%$582,089,00064.8%200171Harry Potter and the Goblet of Fire$896,815,106$290,469,92832.4%$606,345,17867.6%200572Spider-Man 3$894,983,373$336,530,30337.6%$558,453,07062.4%200773The Secret Life of Pets$894,328,469$368,384,33041.2%$525,944,13958.8%201674Ice Age: Dawn of the Dinosaurs$886,686,817$196,573,70522.2%$690,113,11277.8%200975Spectre$880,705,312$200,074,60922.7%$680,630,70377.3%201576Spider-Man: Homecoming$880,166,924$334,201,14038%$545,965,78462%201777Ice Age: Continental Drift$877,244,782$161,321,84318.4%$715,922,93981.6%201278Batman v Superman: Dawn of Justice$873,637,528$330,360,19437.8%$543,277,33462.2%201679Wolf Warrior 2$870,325,439$2,721,1000.3%$867,604,33999.7%201780Star Wars: Episode III - Revenge of the Sith$868,390,560$380,270,57743.8%$488,119,98356.2%200581The Hunger Games: Catching Fire$865,011,746$424,668,04749.1%$440,343,69950.9%201382Guardians of the Galaxy Vol. 2$863,756,051$389,813,10145.1%$473,942,95054.9%201783Inside Out$858,848,019$356,921,71141.6%$501,926,30858.4%201584Black Panther: Wakanda Forever$858,535,561$453,797,69252.9%$404,737,86947.1%202285Venom$856,085,151$213,515,50624.9%$642,569,64575.1%201886Thor: Ragnarok$855,301,806$315,058,28936.8%$540,243,51763.2%201787The Twilight Saga: Breaking Dawn - Part 2$848,853,382$292,324,73734.4%$556,528,64565.6%201288Inception$836,504,484$292,587,33035%$543,917,15465%201089Transformers: Revenge of the Fallen$836,303,693$402,111,87048.1%$434,191,82351.9%200990Spider-Man$825,025,036$407,022,86049.3%$418,002,17650.7%200291Wonder Woman$822,854,286$412,845,17250.2%$410,009,11449.8%201792Hi, Mom$822,009,764--$822,009,764100%202193Independence Day$817,400,891$306,169,26837.5%$511,231,62362.5%199694Coco$814,337,054$210,460,01525.8%$603,877,03974.2%201795Fantastic Beasts and Where to Find Them$814,044,001$234,037,57528.8%$580,006,42671.2%201696Shrek the Third$813,367,380$322,719,94439.7%$490,647,43660.3%200797Jumanji: The Next Level$801,693,929$320,314,96040%$481,378,96960%201998Harry Potter and the Prisoner of Azkaban$797,660,766$250,105,65131.4%$547,555,11568.6%200499Pirates of the Caribbean: Dead Men Tell No Tales$795,922,298$172,558,87621.7%$623,363,42278.3%2017100E.T. the Extra-Terrestrial$792,910,554$437,141,27955.1%$355,769,27544.9%1982101Mission: Impossible - Fallout$791,657,398$220,159,10427.8%$571,498,29472.2%20181022012$791,217,826$166,112,16721%$625,105,65979%2009103Indiana Jones and the Kingdom of the Crystal Skull$790,653,942$317,101,11940.1%$473,552,82359.9%2008104Spider-Man 2$788,976,453$373,585,82547.4%$415,390,62852.6%2004105Fast & Furious 6$788,680,968$238,679,85030.3%$550,001,11869.7%2013106Deadpool 2$785,896,609$324,591,73541.3%$461,304,87458.7%2018107Deadpool$782,836,791$363,070,70946.4%$419,766,08253.6%2016108Star Wars: Episode IV - A New Hope$775,398,007$460,998,50759.4%$314,399,50040.6%1977109No Time to Die$774,153,007$160,891,00720.8%$613,262,00079.2%2021110Interstellar$774,136,705$188,020,01724.3%$586,116,68875.7%2014111Guardians of the Galaxy$773,350,147$333,718,60043.2%$439,631,54756.8%2014112The Batman$770,945,583$369,345,58347.9%$401,600,00052.1%2022113Thor: Love and Thunder$760,928,081$343,256,83045.1%$417,671,25154.9%2022114Fast & Furious Presents: Hobbs & Shaw$760,732,926$173,956,93522.9%$586,775,99177.1%2019115The Da Vinci Code$760,006,945$217,536,13828.6%$542,470,80771.4%2006116Maleficent$759,853,685$241,410,37831.8%$518,443,30768.2%2014117The Amazing Spider-Man$757,930,663$262,030,66334.6%$495,900,00065.4%2012118The Hunger Games: Mockingjay - Part 1$755,356,711$337,135,88544.6%$418,220,82655.4%2014119Shrek Forever After$752,600,867$238,736,78731.7%$513,864,08068.3%2010120Gravity$748,049,949$274,092,70536.6%$473,957,24463.4%2013121Madagascar 3: Europe's Most Wanted$746,921,274$216,391,48229%$530,529,79271%2012122Suicide Squad$746,846,894$325,100,05443.5%$421,746,84056.5%2016123X-Men: Days of Future Past$746,045,700$233,921,53431.4%$512,124,16668.6%2014124The Chronicles of Narnia: The Lion, the Witch and the Wardrobe$745,013,115$291,710,95739.2%$453,302,15860.8%2005125Monsters University$743,559,645$268,492,76436.1%$475,066,88163.9%2013126The Matrix Reloaded$741,847,937$281,576,46138%$460,271,47662%2003127Up$735,099,102$293,004,16439.9%$442,094,93860.1%2009128Ne Zha$726,264,074$3,695,5330.5%$722,568,54199.5%2019129F9: The Fast Saga$726,229,501$173,005,94523.8%$553,223,55676.2%2021130Captain America: The Winter Soldier$714,421,503$259,766,57236.4%$454,654,93163.6%2014131The Twilight Saga: Breaking Dawn - Part 1$712,205,856$281,287,13339.5%$430,918,72360.5%2011132The Twilight Saga: New Moon$711,025,481$297,816,25341.9%$413,209,22858.1%2009133Dawn of the Planet of the Apes$710,644,566$208,545,58929.4%$502,098,97770.6%2014134Transformers$709,709,780$319,246,19345%$390,463,58755%2007135The Amazing Spider-Man 2$708,982,323$202,853,93328.6%$506,128,39071.4%2014136It$701,842,551$328,874,98146.9%$372,967,57053.1%2017137The Wandering Earth$699,992,512$5,971,4130.8%$694,021,09999.2%2019138The Twilight Saga: Eclipse$698,509,825$300,531,75143%$397,978,07457%2010139Mission: Impossible - Ghost Protocol$694,713,380$209,397,90330.1%$485,315,47769.9%2011140Mamma Mia!$694,476,782$144,169,66420.8%$550,307,11879.2%2008141The Hunger Games$694,394,724$408,010,69258.8%$286,384,03241.2%2012142Detective Chinatown 3$686,257,563--$686,257,563100%2021143Mission: Impossible - Rogue Nation$682,716,636$195,042,37728.6%$487,674,25971.4%2015144Forrest Gump$678,226,465$330,455,27048.7%$347,771,19551.3%1994145Doctor Strange$677,796,076$232,641,92034.3%$445,154,15665.7%2016146The Sixth Sense$672,806,432$293,506,29243.6%$379,300,14056.4%1999147Man of Steel$668,045,518$291,045,51843.6%$377,000,00056.4%2013148Ice Age: The Meltdown$667,094,506$195,330,62129.3%$471,763,88570.7%2006149Kung Fu Panda 2$665,692,281$165,249,06324.8%$500,443,21875.2%2011150Moana$665,069,139$248,757,04437.4%$416,312,09562.6%2016151Justice League$657,926,987$229,024,29534.8%$428,902,69265.2%2017152Big Hero 6$657,869,686$222,527,82833.8%$435,341,85866.2%2014153Fantastic Beasts: The Crimes of Grindelwald$654,855,901$159,555,90124.4%$495,300,00075.6%2018154Pirates of the Caribbean: The Curse of the Black Pearl$654,264,015$305,413,91846.7%$348,850,09753.3%2003155Men in Black 3$654,213,485$179,020,85427.4%$475,192,63172.6%2012156Star Wars: Episode II - Attack of the Clones$653,779,970$310,676,74047.5%$343,103,23052.5%2002157The Hunger Games: Mockingjay - Part 2$653,428,261$281,723,90243.1%$371,704,35956.9%2015158Thor: The Dark World$644,783,140$206,362,14032%$438,421,00068%2013159Sing$634,338,384$270,578,42542.7%$363,759,95957.3%2016160Kung Fu Panda$632,083,197$215,771,59134.1%$416,311,60665.9%2008161The Incredibles$631,607,053$261,441,09241.4%$370,165,96158.6%2004162The Martian$630,620,818$228,433,66336.2%$402,187,15563.8%2015163Hancock$629,443,428$227,946,27436.2%$401,497,15463.8%2008164Water Gate Bridge$626,571,697$117,294<0.1%$626,454,403100%2022165Fast Five$626,137,675$209,837,67533.5%$416,300,00066.5%2011166Iron Man 2$623,933,331$312,433,33150.1%$311,500,00049.9%2010167Ratatouille$623,726,085$206,445,65433.1%$417,280,43166.9%2007168Ant-Man and the Wasp$622,674,139$216,648,74034.8%$406,025,39965.2%2018169How to Train Your Dragon 2$621,537,519$177,002,92428.5%$444,534,59571.5%2014170Logan$619,179,950$226,277,06836.5%$392,902,88263.5%2017171The Lost World: Jurassic Park$618,638,999$229,086,67937%$389,552,32063%1997172Casino Royale$616,505,162$167,445,96027.2%$449,059,20272.8%2006173The Passion of the Christ$612,054,506$370,782,93060.6%$241,271,57639.4%2004174Life of Pi$609,016,565$124,987,02320.5%$484,029,54279.5%2012175Transformers: The Last Knight$605,425,157$130,168,68321.5%$475,256,47478.5%2017176Madagascar: Escape 2 Africa$603,900,354$180,010,95029.8%$423,889,40470.2%2008177War of the Worlds$603,873,119$234,280,35438.8%$369,592,76561.2%2005178Tangled$592,462,816$200,821,93633.9%$391,640,88066.1%2010179Ready Player One$592,241,728$137,715,35023.2%$454,526,37876.8%2018180Quantum of Solace$589,580,482$168,368,42728.6%$421,212,05571.4%2008181Men in Black$589,390,539$250,690,53942.5%$338,700,00057.5%1997182The Croods$587,235,983$187,168,42531.9%$400,067,55868.1%2013183The Hangover Part II$586,764,305$254,464,30543.4%$332,300,00056.6%2011184Iron Man$585,796,247$319,034,12654.5%$266,762,12145.5%2008185I Am Legend$585,410,052$256,393,01043.8%$329,017,04256.2%2007186Monsters, Inc.$579,707,738$290,642,25650.1%$289,065,48249.9%2001187Operation Red Sea$579,330,426$1,543,5470.3%$577,786,87999.7%2018188Night at the Museum$574,481,229$250,863,26843.7%$323,617,96156.3%2006189Fifty Shades of Grey$569,651,467$166,167,23029.2%$403,484,23770.8%2015190Kong: Skull Island$566,652,812$168,052,81229.7%$398,600,00070.3%2017191The Smurfs$563,749,323$142,614,15825.3%$421,135,16574.7%2011192Cars 2$559,852,396$191,452,39634.2%$368,400,00065.8%2011193King Kong$556,906,378$218,080,02539.2%$338,826,35360.8%2005194Puss in Boots$554,987,477$149,260,50426.9%$405,726,97373.1%2011195The Mermaid$553,810,228$3,232,6850.6%$550,577,54399.4%2016196Armageddon$553,709,788$201,578,18236.4%$352,131,60663.6%1998197The Day After Tomorrow$552,639,571$186,740,79933.8%$365,898,77266.2%2004198Ted$549,368,315$218,815,48739.8%$330,552,82860.2%2012199American Sniper$547,459,020$350,159,02064%$197,300,00036%2014200Mission: Impossible II$546,388,108$215,409,88939.4%$330,978,21960.6%2000\"]\n"
     ]
    }
   ],
   "source": [
    "raw_data = []\n",
    "\n",
    "table = bs.find_all(\"table\")\n",
    "\n",
    "for row in table:\n",
    "    line = row.text\n",
    "    raw_data.append(line)\n",
    "\n",
    "print(raw_data)"
   ]
  },
  {
   "cell_type": "markdown",
   "id": "ae45ec48",
   "metadata": {},
   "source": [
    "The first step of ETL. <br />\n",
    "Based on the webpage I selected above, I extracted raw data of the webpage with the word \"table.\" <br />\n",
    "Then, I printed the all raw data. "
   ]
  },
  {
   "cell_type": "markdown",
   "id": "f5187fc7",
   "metadata": {},
   "source": [
    "# 4. Transform the raw data to Dataframe"
   ]
  },
  {
   "cell_type": "code",
   "execution_count": 5,
   "id": "a5f96ec9",
   "metadata": {},
   "outputs": [
    {
     "name": "stdout",
     "output_type": "stream",
     "text": [
      "     Rank                                       Title  \\\n",
      "0       1                                      Avatar   \n",
      "1       2                           Avengers: Endgame   \n",
      "2       3                    Avatar: The Way of Water   \n",
      "3       4                                     Titanic   \n",
      "4       5  Star Wars: Episode VII - The Force Awakens   \n",
      "..    ...                                         ...   \n",
      "195   196                                  Armageddon   \n",
      "196   197                      The Day After Tomorrow   \n",
      "197   198                                         Ted   \n",
      "198   199                             American Sniper   \n",
      "199   200                      Mission: Impossible II   \n",
      "\n",
      "    Worldwide Lifetime Gross Domestic Lifetime Gross Domestic %  \\\n",
      "0             $2,923,706,026            $785,221,649      26.9%   \n",
      "1             $2,799,439,100            $858,373,000      30.7%   \n",
      "2             $2,268,388,003            $666,325,816      29.4%   \n",
      "3             $2,254,271,285            $673,995,829      29.9%   \n",
      "4             $2,071,310,218            $936,662,225      45.2%   \n",
      "..                       ...                     ...        ...   \n",
      "195             $553,709,788            $201,578,182      36.4%   \n",
      "196             $552,639,571            $186,740,799      33.8%   \n",
      "197             $549,368,315            $218,815,487      39.8%   \n",
      "198             $547,459,020            $350,159,020        64%   \n",
      "199             $546,388,108            $215,409,889      39.4%   \n",
      "\n",
      "    Foreign Lifetime Gross Foreign %  Year  \n",
      "0           $2,138,484,377     73.1%  2009  \n",
      "1           $1,941,066,100     69.3%  2019  \n",
      "2           $1,602,062,187     70.6%  2022  \n",
      "3           $1,580,275,456     70.1%  1997  \n",
      "4           $1,134,647,993     54.8%  2015  \n",
      "..                     ...       ...   ...  \n",
      "195           $352,131,606     63.6%  1998  \n",
      "196           $365,898,772     66.2%  2004  \n",
      "197           $330,552,828     60.2%  2012  \n",
      "198           $197,300,000       36%  2014  \n",
      "199           $330,978,219     60.6%  2000  \n",
      "\n",
      "[200 rows x 8 columns]\n"
     ]
    }
   ],
   "source": [
    "import pandas as pd\n",
    "\n",
    "url = \"https://www.boxofficemojo.com/chart/ww_top_lifetime_gross/?area=XWW\"\n",
    "table = pd.read_html(url)[0]\n",
    "df = pd.DataFrame(table)\n",
    "print(df)"
   ]
  },
  {
   "cell_type": "markdown",
   "id": "03c3ffdc",
   "metadata": {},
   "source": [
    "I extracted the raw data in the previous stage. <br />\n",
    "Now, it is the second step, transforming the raw data to data frame. Even though it is not the CSV format, the data is much more organized compare to raw data as you can see above. "
   ]
  },
  {
   "cell_type": "markdown",
   "id": "f95cf9a3",
   "metadata": {},
   "source": [
    "# 5. Save the Dataframe as CSV file"
   ]
  },
  {
   "cell_type": "code",
   "execution_count": 6,
   "id": "f1ae8246",
   "metadata": {},
   "outputs": [],
   "source": [
    "df.to_csv(\"assignment7_movie.csv\")"
   ]
  },
  {
   "cell_type": "markdown",
   "id": "5d57d0c2",
   "metadata": {},
   "source": [
    "This is the last step of ETL, 'load.' <br />\n",
    "I stored the data frame as CSV file in order to visualize it later."
   ]
  },
  {
   "cell_type": "markdown",
   "id": "713a539c",
   "metadata": {},
   "source": [
    "# 6. Load the CSV file I created"
   ]
  },
  {
   "cell_type": "code",
   "execution_count": 11,
   "id": "e7aa569b",
   "metadata": {
    "scrolled": true
   },
   "outputs": [
    {
     "name": "stdout",
     "output_type": "stream",
     "text": [
      "<class 'pandas.core.frame.DataFrame'>\n",
      "RangeIndex: 200 entries, 0 to 199\n",
      "Data columns (total 9 columns):\n",
      " #   Column                    Non-Null Count  Dtype \n",
      "---  ------                    --------------  ----- \n",
      " 0   Unnamed: 0                200 non-null    int64 \n",
      " 1   Rank                      200 non-null    int64 \n",
      " 2   Title                     200 non-null    object\n",
      " 3   Worldwide Lifetime Gross  200 non-null    object\n",
      " 4   Domestic Lifetime Gross   200 non-null    object\n",
      " 5   Domestic %                200 non-null    object\n",
      " 6   Foreign Lifetime Gross    200 non-null    object\n",
      " 7   Foreign %                 200 non-null    object\n",
      " 8   Year                      200 non-null    int64 \n",
      "dtypes: int64(3), object(6)\n",
      "memory usage: 14.2+ KB\n"
     ]
    }
   ],
   "source": [
    "from IPython.core.interactiveshell import InteractiveShell\n",
    "InteractiveShell.ast_node_interactivity = \"all\"\n",
    "\n",
    "movie_df = pd.read_csv(\"assignment7_movie.csv\")\n",
    "\n",
    "movie_df.info()"
   ]
  },
  {
   "cell_type": "markdown",
   "id": "27e5cb42",
   "metadata": {},
   "source": [
    "Since we saved the data frame as a form of CSV file, now I can call it and check the general information about it."
   ]
  },
  {
   "cell_type": "code",
   "execution_count": 12,
   "id": "cde0d1ac",
   "metadata": {},
   "outputs": [
    {
     "data": {
      "text/html": [
       "<div>\n",
       "<style scoped>\n",
       "    .dataframe tbody tr th:only-of-type {\n",
       "        vertical-align: middle;\n",
       "    }\n",
       "\n",
       "    .dataframe tbody tr th {\n",
       "        vertical-align: top;\n",
       "    }\n",
       "\n",
       "    .dataframe thead th {\n",
       "        text-align: right;\n",
       "    }\n",
       "</style>\n",
       "<table border=\"1\" class=\"dataframe\">\n",
       "  <thead>\n",
       "    <tr style=\"text-align: right;\">\n",
       "      <th></th>\n",
       "      <th>Unnamed: 0</th>\n",
       "      <th>Rank</th>\n",
       "      <th>Title</th>\n",
       "      <th>Worldwide Lifetime Gross</th>\n",
       "      <th>Domestic Lifetime Gross</th>\n",
       "      <th>Domestic %</th>\n",
       "      <th>Foreign Lifetime Gross</th>\n",
       "      <th>Foreign %</th>\n",
       "      <th>Year</th>\n",
       "    </tr>\n",
       "  </thead>\n",
       "  <tbody>\n",
       "    <tr>\n",
       "      <th>0</th>\n",
       "      <td>0</td>\n",
       "      <td>1</td>\n",
       "      <td>Avatar</td>\n",
       "      <td>$2,923,706,026</td>\n",
       "      <td>$785,221,649</td>\n",
       "      <td>26.9%</td>\n",
       "      <td>$2,138,484,377</td>\n",
       "      <td>73.1%</td>\n",
       "      <td>2009</td>\n",
       "    </tr>\n",
       "    <tr>\n",
       "      <th>1</th>\n",
       "      <td>1</td>\n",
       "      <td>2</td>\n",
       "      <td>Avengers: Endgame</td>\n",
       "      <td>$2,799,439,100</td>\n",
       "      <td>$858,373,000</td>\n",
       "      <td>30.7%</td>\n",
       "      <td>$1,941,066,100</td>\n",
       "      <td>69.3%</td>\n",
       "      <td>2019</td>\n",
       "    </tr>\n",
       "    <tr>\n",
       "      <th>2</th>\n",
       "      <td>2</td>\n",
       "      <td>3</td>\n",
       "      <td>Avatar: The Way of Water</td>\n",
       "      <td>$2,268,388,003</td>\n",
       "      <td>$666,325,816</td>\n",
       "      <td>29.4%</td>\n",
       "      <td>$1,602,062,187</td>\n",
       "      <td>70.6%</td>\n",
       "      <td>2022</td>\n",
       "    </tr>\n",
       "    <tr>\n",
       "      <th>3</th>\n",
       "      <td>3</td>\n",
       "      <td>4</td>\n",
       "      <td>Titanic</td>\n",
       "      <td>$2,254,271,285</td>\n",
       "      <td>$673,995,829</td>\n",
       "      <td>29.9%</td>\n",
       "      <td>$1,580,275,456</td>\n",
       "      <td>70.1%</td>\n",
       "      <td>1997</td>\n",
       "    </tr>\n",
       "    <tr>\n",
       "      <th>4</th>\n",
       "      <td>4</td>\n",
       "      <td>5</td>\n",
       "      <td>Star Wars: Episode VII - The Force Awakens</td>\n",
       "      <td>$2,071,310,218</td>\n",
       "      <td>$936,662,225</td>\n",
       "      <td>45.2%</td>\n",
       "      <td>$1,134,647,993</td>\n",
       "      <td>54.8%</td>\n",
       "      <td>2015</td>\n",
       "    </tr>\n",
       "  </tbody>\n",
       "</table>\n",
       "</div>"
      ],
      "text/plain": [
       "   Unnamed: 0  Rank                                       Title  \\\n",
       "0           0     1                                      Avatar   \n",
       "1           1     2                           Avengers: Endgame   \n",
       "2           2     3                    Avatar: The Way of Water   \n",
       "3           3     4                                     Titanic   \n",
       "4           4     5  Star Wars: Episode VII - The Force Awakens   \n",
       "\n",
       "  Worldwide Lifetime Gross Domestic Lifetime Gross Domestic %  \\\n",
       "0           $2,923,706,026            $785,221,649      26.9%   \n",
       "1           $2,799,439,100            $858,373,000      30.7%   \n",
       "2           $2,268,388,003            $666,325,816      29.4%   \n",
       "3           $2,254,271,285            $673,995,829      29.9%   \n",
       "4           $2,071,310,218            $936,662,225      45.2%   \n",
       "\n",
       "  Foreign Lifetime Gross Foreign %  Year  \n",
       "0         $2,138,484,377     73.1%  2009  \n",
       "1         $1,941,066,100     69.3%  2019  \n",
       "2         $1,602,062,187     70.6%  2022  \n",
       "3         $1,580,275,456     70.1%  1997  \n",
       "4         $1,134,647,993     54.8%  2015  "
      ]
     },
     "execution_count": 12,
     "metadata": {},
     "output_type": "execute_result"
    }
   ],
   "source": [
    "movie_df.head()"
   ]
  },
  {
   "cell_type": "markdown",
   "id": "926137d5",
   "metadata": {},
   "source": [
    "This cell is just for the checking that either my CSV file is successfully loaded or not. <br />\n",
    "The CSV file is successfully loaded. "
   ]
  },
  {
   "cell_type": "markdown",
   "id": "19115fc4",
   "metadata": {},
   "source": [
    "# 7. Descriptive Stats"
   ]
  },
  {
   "cell_type": "code",
   "execution_count": 13,
   "id": "58262e27",
   "metadata": {
    "scrolled": true
   },
   "outputs": [
    {
     "name": "stdout",
     "output_type": "stream",
     "text": [
      "0      $2,923,706,026\n",
      "1      $2,799,439,100\n",
      "2      $2,268,388,003\n",
      "3      $2,254,271,285\n",
      "4      $2,071,310,218\n",
      "            ...      \n",
      "195      $553,709,788\n",
      "196      $552,639,571\n",
      "197      $549,368,315\n",
      "198      $547,459,020\n",
      "199      $546,388,108\n",
      "Name: Worldwide Lifetime Gross, Length: 200, dtype: object\n"
     ]
    },
    {
     "data": {
      "text/plain": [
       "count                200\n",
       "unique               200\n",
       "top       $2,923,706,026\n",
       "freq                   1\n",
       "Name: Worldwide Lifetime Gross, dtype: object"
      ]
     },
     "execution_count": 13,
     "metadata": {},
     "output_type": "execute_result"
    }
   ],
   "source": [
    "wlg = movie_df[\"Worldwide Lifetime Gross\"]\n",
    "print (wlg)\n",
    "\n",
    "wlg.describe()"
   ]
  },
  {
   "cell_type": "markdown",
   "id": "c2bb3ef4",
   "metadata": {},
   "source": [
    "This is the descriptive statistics of \"Worldwide Lifetime Gross.\" <br />"
   ]
  },
  {
   "cell_type": "markdown",
   "id": "5085b835",
   "metadata": {},
   "source": [
    "# 8. Data Visualization "
   ]
  },
  {
   "cell_type": "markdown",
   "id": "27615a86",
   "metadata": {},
   "source": [
    "## Histogram"
   ]
  },
  {
   "cell_type": "code",
   "execution_count": 14,
   "id": "40bffcea",
   "metadata": {
    "scrolled": true
   },
   "outputs": [
    {
     "data": {
      "text/plain": [
       "count     200.000000\n",
       "mean     2011.770000\n",
       "std         7.208112\n",
       "min      1977.000000\n",
       "25%      2008.000000\n",
       "50%      2013.000000\n",
       "75%      2017.000000\n",
       "max      2022.000000\n",
       "Name: Year, dtype: float64"
      ]
     },
     "execution_count": 14,
     "metadata": {},
     "output_type": "execute_result"
    },
    {
     "data": {
      "text/plain": [
       "<AxesSubplot:>"
      ]
     },
     "execution_count": 14,
     "metadata": {},
     "output_type": "execute_result"
    },
    {
     "data": {
      "text/plain": [
       "Text(0.5, 1.0, 'The Best Movie Year')"
      ]
     },
     "execution_count": 14,
     "metadata": {},
     "output_type": "execute_result"
    },
    {
     "data": {
      "text/plain": [
       "Text(0.5, 0, 'Years')"
      ]
     },
     "execution_count": 14,
     "metadata": {},
     "output_type": "execute_result"
    },
    {
     "data": {
      "text/plain": [
       "Text(0, 0.5, 'Frequency')"
      ]
     },
     "execution_count": 14,
     "metadata": {},
     "output_type": "execute_result"
    },
    {
     "data": {
      "image/png": "[encoded data removed]",
      "text/plain": [
       "<Figure size 432x288 with 1 Axes>"
      ]
     },
     "metadata": {
      "needs_background": "light"
     },
     "output_type": "display_data"
    }
   ],
   "source": [
    "import matplotlib.pyplot as plt\n",
    "\n",
    "year = movie_df[\"Year\"]\n",
    "year.describe()\n",
    "year.hist(bins=len(year))\n",
    "\n",
    "plt.title('The Best Movie Year')\n",
    "plt.xlabel('Years')\n",
    "plt.ylabel('Frequency')"
   ]
  },
  {
   "cell_type": "markdown",
   "id": "716381ce",
   "metadata": {},
   "source": [
    "Since I would like to compare the year and the frequency, I decided to use histogram rather than bar graph. <br />\n",
    "Importing `matplotlib.pyplot` is essential before visualizing your data. <br />\n",
    "The length of the bins is as the same as the length of `year` <br />\n",
    "Since the title, labels of x and y axises are significant, I added them with `plt.title`, `plt.xlabel`, and `plt.ylabel`"
   ]
  },
  {
   "cell_type": "markdown",
   "id": "2ef323e3",
   "metadata": {},
   "source": [
    "**Short insight** <br />\n",
    "Since total of 17 movies were released in 2017 among the best 200 top lifetime gross movies, we are able to say 2017 was one of the most successful year in film industry. More details in README and data.world."
   ]
  }
 ],
 "metadata": {
  "kernelspec": {
   "display_name": "Python 3 (ipykernel)",
   "language": "python",
   "name": "python3"
  },
  "language_info": {
   "codemirror_mode": {
    "name": "ipython",
    "version": 3
   },
   "file_extension": ".py",
   "mimetype": "text/x-python",
   "name": "python",
   "nbconvert_exporter": "python",
   "pygments_lexer": "ipython3",
   "version": "3.9.7"
  }
 },
 "nbformat": 4,
 "nbformat_minor": 5
}
